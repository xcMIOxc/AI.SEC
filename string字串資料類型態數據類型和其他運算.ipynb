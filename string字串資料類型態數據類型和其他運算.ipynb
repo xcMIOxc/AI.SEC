{
  "nbformat": 4,
  "nbformat_minor": 0,
  "metadata": {
    "colab": {
      "name": "string字串資料類型態數據類型和其他運算.ipynb",
      "provenance": [],
      "collapsed_sections": [],
      "authorship_tag": "ABX9TyPIDWY6m9AfxdzjFUKrEgmE",
      "include_colab_link": true
    },
    "kernelspec": {
      "name": "python3",
      "display_name": "Python 3"
    }
  },
  "cells": [
    {
      "cell_type": "markdown",
      "metadata": {
        "id": "view-in-github",
        "colab_type": "text"
      },
      "source": [
        "<a href=\"https://colab.research.google.com/github/xcMIOxc/AI.SEC/blob/master/string%E5%AD%97%E4%B8%B2%E8%B3%87%E6%96%99%E9%A1%9E%E5%9E%8B%E6%85%8B%E6%95%B8%E6%93%9A%E9%A1%9E%E5%9E%8B%E5%92%8C%E5%85%B6%E4%BB%96%E9%81%8B%E7%AE%97.ipynb\" target=\"_parent\"><img src=\"https://colab.research.google.com/assets/colab-badge.svg\" alt=\"Open In Colab\"/></a>"
      ]
    },
    {
      "cell_type": "code",
      "metadata": {
        "id": "kEz8FsKRg2lC",
        "colab_type": "code",
        "colab": {
          "base_uri": "https://localhost:8080/",
          "height": 67
        },
        "outputId": "25624abd-e128-4ecf-e1a6-be6ecee409f6"
      },
      "source": [
        "str1 = '這是字串'\n",
        "print(str1)\n",
        "\n",
        "str2 = \"這也是字串\"\n",
        "print(str2)\n",
        "\n",
        "str3 = 'allows embedded \"double\" quotes'\n",
        "print(str3)"
      ],
      "execution_count": 15,
      "outputs": [
        {
          "output_type": "stream",
          "text": [
            "這是字串\n",
            "這也是字串\n",
            "allows embedded \"double\" quotes\n"
          ],
          "name": "stdout"
        }
      ]
    },
    {
      "cell_type": "code",
      "metadata": {
        "id": "ieZTJzTLue-h",
        "colab_type": "code",
        "colab": {
          "base_uri": "https://localhost:8080/",
          "height": 50
        },
        "outputId": "5fb6a356-e56a-4dcb-fe94-601509a8cf38"
      },
      "source": [
        "var1 = 'Hello Python!'\n",
        " \n",
        "print(\"var1[0]: \", var1[0])\n",
        "print(\"var1[1:8]: \", var1[1:8])"
      ],
      "execution_count": 5,
      "outputs": [
        {
          "output_type": "stream",
          "text": [
            "var1[0]:  H\n",
            "var1[1:8]:  ello Py\n"
          ],
          "name": "stdout"
        }
      ]
    },
    {
      "cell_type": "code",
      "metadata": {
        "id": "k1pReHHDurM3",
        "colab_type": "code",
        "colab": {
          "base_uri": "https://localhost:8080/",
          "height": 67
        },
        "outputId": "1ae35c71-3f8f-4519-d415-12c47b01bc0f"
      },
      "source": [
        "str1 = 'Hello World!'\n",
        "\n",
        "print(\"更新前的字串-> \", str1[:])\n",
        "print(\"更新前的字串(也可以這樣寫)-> \", str1)\n",
        "print(\"更新後的字串-> \", str1[:6] + 'Python!')"
      ],
      "execution_count": 12,
      "outputs": [
        {
          "output_type": "stream",
          "text": [
            "更新前的字串->  Hello World!\n",
            "更新前的字串(也可以這樣寫)->  Hello World!\n",
            "更新後的字串->  Hello Python!\n"
          ],
          "name": "stdout"
        }
      ]
    },
    {
      "cell_type": "code",
      "metadata": {
        "id": "1KbHIno9uy3n",
        "colab_type": "code",
        "colab": {
          "base_uri": "https://localhost:8080/",
          "height": 34
        },
        "outputId": "81d03191-9633-4b1a-968f-5c3416af051d"
      },
      "source": [
        "str4=str1 + str2\n",
        "print(str4)"
      ],
      "execution_count": 14,
      "outputs": [
        {
          "output_type": "stream",
          "text": [
            "Hello World!這也是字串\n"
          ],
          "name": "stdout"
        }
      ]
    },
    {
      "cell_type": "code",
      "metadata": {
        "id": "gb_Txr6Uvm0l",
        "colab_type": "code",
        "colab": {
          "base_uri": "https://localhost:8080/",
          "height": 35
        },
        "outputId": "f4c7e677-7f8d-46be-dc73-8d5a443e81a5"
      },
      "source": [
        "a='  Hello   '\n",
        "b='  Python ! '\n",
        "\n",
        "a+b"
      ],
      "execution_count": 16,
      "outputs": [
        {
          "output_type": "execute_result",
          "data": {
            "application/vnd.google.colaboratory.intrinsic+json": {
              "type": "string"
            },
            "text/plain": [
              "'  Hello     Python ! '"
            ]
          },
          "metadata": {
            "tags": []
          },
          "execution_count": 16
        }
      ]
    },
    {
      "cell_type": "code",
      "metadata": {
        "id": "M7FriiqKvo3n",
        "colab_type": "code",
        "colab": {
          "base_uri": "https://localhost:8080/",
          "height": 35
        },
        "outputId": "7d17aeb4-ff42-4b16-8c83-97c69504d2c2"
      },
      "source": [
        "a='  Hello   '\n",
        "b='  Python ! '\n",
        "\n",
        "a*2"
      ],
      "execution_count": 18,
      "outputs": [
        {
          "output_type": "execute_result",
          "data": {
            "application/vnd.google.colaboratory.intrinsic+json": {
              "type": "string"
            },
            "text/plain": [
              "'  Hello     Hello   '"
            ]
          },
          "metadata": {
            "tags": []
          },
          "execution_count": 18
        }
      ]
    },
    {
      "cell_type": "code",
      "metadata": {
        "id": "7eR9a9WIvvgg",
        "colab_type": "code",
        "colab": {
          "base_uri": "https://localhost:8080/",
          "height": 35
        },
        "outputId": "6dc6a80d-4e50-47e3-8f4b-bb18b2f4cf63"
      },
      "source": [
        "a='  Hello   '\n",
        "b='  Python ! '\n",
        "\n",
        "a[1:4]\n"
      ],
      "execution_count": 19,
      "outputs": [
        {
          "output_type": "execute_result",
          "data": {
            "application/vnd.google.colaboratory.intrinsic+json": {
              "type": "string"
            },
            "text/plain": [
              "' He'"
            ]
          },
          "metadata": {
            "tags": []
          },
          "execution_count": 19
        }
      ]
    },
    {
      "cell_type": "code",
      "metadata": {
        "id": "8RRwyt7dv2g_",
        "colab_type": "code",
        "colab": {
          "base_uri": "https://localhost:8080/",
          "height": 34
        },
        "outputId": "3e38fe22-d737-4c7b-a156-ef77c80555d1"
      },
      "source": [
        "a='  Hello   '\n",
        "b='  Python ! '\n",
        "\n",
        "\"H\" in a"
      ],
      "execution_count": 20,
      "outputs": [
        {
          "output_type": "execute_result",
          "data": {
            "text/plain": [
              "True"
            ]
          },
          "metadata": {
            "tags": []
          },
          "execution_count": 20
        }
      ]
    },
    {
      "cell_type": "code",
      "metadata": {
        "id": "KIW07pKQv9QH",
        "colab_type": "code",
        "colab": {
          "base_uri": "https://localhost:8080/",
          "height": 34
        },
        "outputId": "9e050467-4a99-42fe-e17c-524041af6f81"
      },
      "source": [
        "a='  Hello   '\n",
        "b='  Python ! '\n",
        "\n",
        "\"H\" not in a"
      ],
      "execution_count": 21,
      "outputs": [
        {
          "output_type": "execute_result",
          "data": {
            "text/plain": [
              "False"
            ]
          },
          "metadata": {
            "tags": []
          },
          "execution_count": 21
        }
      ]
    },
    {
      "cell_type": "code",
      "metadata": {
        "id": "FJPUqIMlwOXZ",
        "colab_type": "code",
        "colab": {
          "base_uri": "https://localhost:8080/",
          "height": 50
        },
        "outputId": "28b3fae9-88ad-455f-a2aa-9c580df2f6a2"
      },
      "source": [
        "def reverse(s): \n",
        "    if len(s) == 0: \n",
        "        return s \n",
        "    else: \n",
        "        return reverse(s[1:]) + s[0] \n",
        "  \n",
        "#s = \"HappyHackingDay\"\n",
        "s = \"BreakAllCTF{HappyHackingDay}\"\n",
        "\n",
        "print (\"The original string  is : \",end=\"\") \n",
        "print (s) \n",
        "  \n",
        "print (\"The reversed string(using recursion) is : \",end=\"\") \n",
        "print (reverse(s))"
      ],
      "execution_count": 24,
      "outputs": [
        {
          "output_type": "stream",
          "text": [
            "The original string  is : BreakAllCTF{HappyHackingDay}\n",
            "The reversed string(using recursion) is : }yaDgnikcaHyppaH{FTCllAkaerB\n"
          ],
          "name": "stdout"
        }
      ]
    },
    {
      "cell_type": "code",
      "metadata": {
        "id": "6M5M7zI4w7SE",
        "colab_type": "code",
        "colab": {
          "base_uri": "https://localhost:8080/",
          "height": 34
        },
        "outputId": "0a7bd73a-cda7-4dd9-fc19-b943e931883b"
      },
      "source": [
        "str1='happy python day'\n",
        "str2='    Oh!   '\n",
        "str4=str1 + str2\n",
        "print(str4.capitalize())"
      ],
      "execution_count": 33,
      "outputs": [
        {
          "output_type": "stream",
          "text": [
            "Happy python day    oh!   \n"
          ],
          "name": "stdout"
        }
      ]
    },
    {
      "cell_type": "code",
      "metadata": {
        "id": "6Ccxob5lxiCH",
        "colab_type": "code",
        "colab": {
          "base_uri": "https://localhost:8080/",
          "height": 34
        },
        "outputId": "2549006c-3454-4745-db2c-c7e7796e8038"
      },
      "source": [
        "str = \"Python2019\"\n",
        "print(str.isalpha())"
      ],
      "execution_count": 35,
      "outputs": [
        {
          "output_type": "stream",
          "text": [
            "False\n"
          ],
          "name": "stdout"
        }
      ]
    },
    {
      "cell_type": "code",
      "metadata": {
        "id": "9u90yoJYxuBd",
        "colab_type": "code",
        "colab": {
          "base_uri": "https://localhost:8080/",
          "height": 34
        },
        "outputId": "0fbdde24-ff8f-4887-fdd0-71e8907b17e4"
      },
      "source": [
        "str = \"Python\"\n",
        "print(str.isalpha())"
      ],
      "execution_count": 36,
      "outputs": [
        {
          "output_type": "stream",
          "text": [
            "True\n"
          ],
          "name": "stdout"
        }
      ]
    },
    {
      "cell_type": "code",
      "metadata": {
        "id": "Nx81a1YSx1kP",
        "colab_type": "code",
        "colab": {
          "base_uri": "https://localhost:8080/",
          "height": 34
        },
        "outputId": "4eca8dcb-a8a6-4ed4-d67e-7217b22e0fd6"
      },
      "source": [
        "str = \"Python2019\"\n",
        "print(str.isalnum())"
      ],
      "execution_count": 37,
      "outputs": [
        {
          "output_type": "stream",
          "text": [
            "True\n"
          ],
          "name": "stdout"
        }
      ]
    },
    {
      "cell_type": "code",
      "metadata": {
        "id": "W1U9owfHx4M3",
        "colab_type": "code",
        "colab": {
          "base_uri": "https://localhost:8080/",
          "height": 34
        },
        "outputId": "f303aace-ab7d-4068-b610-963ce620eb2a"
      },
      "source": [
        "str = \"Python\"\n",
        "print(str.isalnum())"
      ],
      "execution_count": 38,
      "outputs": [
        {
          "output_type": "stream",
          "text": [
            "True\n"
          ],
          "name": "stdout"
        }
      ]
    },
    {
      "cell_type": "code",
      "metadata": {
        "id": "XGtUi1T5x8YW",
        "colab_type": "code",
        "colab": {
          "base_uri": "https://localhost:8080/",
          "height": 34
        },
        "outputId": "89b8de2d-3afd-4f79-bba4-6f41a92d38d6"
      },
      "source": [
        "str = \"2019\"\n",
        "print(str.isalnum())"
      ],
      "execution_count": 39,
      "outputs": [
        {
          "output_type": "stream",
          "text": [
            "True\n"
          ],
          "name": "stdout"
        }
      ]
    },
    {
      "cell_type": "code",
      "metadata": {
        "id": "08jUuAswx-YO",
        "colab_type": "code",
        "colab": {
          "base_uri": "https://localhost:8080/",
          "height": 34
        },
        "outputId": "27336c9f-ad2b-406a-cfe6-435492b54f23"
      },
      "source": [
        "str = \"Python 2019\"\n",
        "print(str.isalnum())"
      ],
      "execution_count": 40,
      "outputs": [
        {
          "output_type": "stream",
          "text": [
            "False\n"
          ],
          "name": "stdout"
        }
      ]
    },
    {
      "cell_type": "code",
      "metadata": {
        "id": "mYTu6T7WyAtq",
        "colab_type": "code",
        "colab": {
          "base_uri": "https://localhost:8080/",
          "height": 34
        },
        "outputId": "34a6e020-d14e-43cc-df16-210dddf3e5ce"
      },
      "source": [
        "str = \"1                    1\"\n",
        "print(str.isalnum())"
      ],
      "execution_count": 42,
      "outputs": [
        {
          "output_type": "stream",
          "text": [
            "False\n"
          ],
          "name": "stdout"
        }
      ]
    },
    {
      "cell_type": "markdown",
      "metadata": {
        "id": "u6MAOai-4CQQ",
        "colab_type": "text"
      },
      "source": [
        "capitalize() "
      ]
    },
    {
      "cell_type": "code",
      "metadata": {
        "id": "fNYkBSDdyfHf",
        "colab_type": "code",
        "colab": {
          "base_uri": "https://localhost:8080/",
          "height": 34
        },
        "outputId": "64abe628-65ee-4158-f207-1117fd4ea303"
      },
      "source": [
        "str = \"dog\";\n",
        "print(str.capitalize())\n"
      ],
      "execution_count": 51,
      "outputs": [
        {
          "output_type": "stream",
          "text": [
            "Dog\n"
          ],
          "name": "stdout"
        }
      ]
    },
    {
      "cell_type": "markdown",
      "metadata": {
        "id": "YA4cGJam4G3G",
        "colab_type": "text"
      },
      "source": [
        "center(width, fillchar) "
      ]
    },
    {
      "cell_type": "code",
      "metadata": {
        "id": "fSv4PZA90p7o",
        "colab_type": "code",
        "colab": {
          "base_uri": "https://localhost:8080/",
          "height": 34
        },
        "outputId": "98d1bb0a-f393-486d-9dc0-ef3b44dcb871"
      },
      "source": [
        "ste = \"cow\"\n",
        "print(str.center(100,'a'))"
      ],
      "execution_count": 57,
      "outputs": [
        {
          "output_type": "stream",
          "text": [
            "aaaaaaaaaaaaaaaaaaaaaaaaaaaaaaaaaaaaaaaaaaaaaaaadogaaaaaaaaaaaaaaaaaaaaaaaaaaaaaaaaaaaaaaaaaaaaaaaaa\n"
          ],
          "name": "stdout"
        }
      ]
    },
    {
      "cell_type": "markdown",
      "metadata": {
        "id": "PZOOINrK4vLH",
        "colab_type": "text"
      },
      "source": [
        "count(str, beg= 0,end=len(string))\n"
      ]
    },
    {
      "cell_type": "code",
      "metadata": {
        "id": "HIJVgB_V4uTW",
        "colab_type": "code",
        "colab": {
          "base_uri": "https://localhost:8080/",
          "height": 50
        },
        "outputId": "c5b6bf0e-95be-42c2-d53f-c14028b6d3dd"
      },
      "source": [
        "str = \"this is string example....wow!!!\";\n",
        "\n",
        "sub = \"i\";\n",
        "print(\"str.count(sub, 4, 40) : \", str.count(sub, 4, 40))\n",
        "sub = \"wow\";\n",
        "print(\"str.count(sub) : \", str.count(sub))"
      ],
      "execution_count": 74,
      "outputs": [
        {
          "output_type": "stream",
          "text": [
            "str.count(sub, 4, 40) :  2\n",
            "str.count(sub) :  1\n"
          ],
          "name": "stdout"
        }
      ]
    },
    {
      "cell_type": "markdown",
      "metadata": {
        "id": "DaYtFxKV6J7i",
        "colab_type": "text"
      },
      "source": [
        "endswith(suffix, beg=0, end=len(string))\n",
        "\n",
        "\n",
        "\n"
      ]
    },
    {
      "cell_type": "code",
      "metadata": {
        "id": "uow-mPlv1E3I",
        "colab_type": "code",
        "colab": {
          "base_uri": "https://localhost:8080/",
          "height": 84
        },
        "outputId": "f9e159e0-dc84-45de-f9b3-c90510a6ef2c"
      },
      "source": [
        "str = \"this is string example....wow!!!\";\n",
        "\n",
        "suffix = \"wow!!!\";\n",
        "print(str.endswith(suffix))\n",
        "print(str.endswith(suffix,20))\n",
        "\n",
        "suffix = \"is\";\n",
        "print(str.endswith(suffix, 2, 4))\n",
        "print(str.endswith(suffix, 2, 6))"
      ],
      "execution_count": 70,
      "outputs": [
        {
          "output_type": "stream",
          "text": [
            "True\n",
            "True\n",
            "True\n",
            "False\n"
          ],
          "name": "stdout"
        }
      ]
    },
    {
      "cell_type": "markdown",
      "metadata": {
        "id": "o1CyQ5BL6mE1",
        "colab_type": "text"
      },
      "source": [
        "expandtabs（tabsize = 8）"
      ]
    },
    {
      "cell_type": "code",
      "metadata": {
        "id": "bFqb6OVQ3U9Q",
        "colab_type": "code",
        "colab": {
          "base_uri": "https://localhost:8080/",
          "height": 67
        },
        "outputId": "b0baf449-cfed-4e85-942d-f4382ef0a8d1"
      },
      "source": [
        "str = \"this is\\tstring example....wow!!!\";\n",
        "\n",
        "print(\"Original string: \" + str)\n",
        "print(\"Defualt exapanded tab: \" +  str.expandtabs())\n",
        "print(\"Double exapanded tab: \" +  str.expandtabs(16))"
      ],
      "execution_count": 72,
      "outputs": [
        {
          "output_type": "stream",
          "text": [
            "Original string: this is\tstring example....wow!!!\n",
            "Defualt exapanded tab: this is string example....wow!!!\n",
            "Double exapanded tab: this is         string example....wow!!!\n"
          ],
          "name": "stdout"
        }
      ]
    },
    {
      "cell_type": "markdown",
      "metadata": {
        "id": "Hby3x7TF6rJK",
        "colab_type": "text"
      },
      "source": [
        "find（str，beg = 0 end = len（string））"
      ]
    },
    {
      "cell_type": "code",
      "metadata": {
        "id": "3qGkCR0m6xFZ",
        "colab_type": "code",
        "colab": {
          "base_uri": "https://localhost:8080/",
          "height": 67
        },
        "outputId": "4130f819-ec0c-40c9-a8d1-c93a82c73a50"
      },
      "source": [
        "str1 = \"this is string example....wow!!!\";\n",
        "str2 = \"exam\";\n",
        "\n",
        "print(str1.find(str2))\n",
        "print(str1.find(str2, 10))\n",
        "print(str1.find(str2, 40))"
      ],
      "execution_count": 77,
      "outputs": [
        {
          "output_type": "stream",
          "text": [
            "15\n",
            "15\n",
            "-1\n"
          ],
          "name": "stdout"
        }
      ]
    },
    {
      "cell_type": "markdown",
      "metadata": {
        "id": "t0BWoq3B7ENG",
        "colab_type": "text"
      },
      "source": [
        "index(str, beg=0, end=len(string))"
      ]
    },
    {
      "cell_type": "code",
      "metadata": {
        "id": "ltGMkPLM7IfP",
        "colab_type": "code",
        "colab": {
          "base_uri": "https://localhost:8080/",
          "height": 230
        },
        "outputId": "cc26a5d1-ec30-47de-fbda-c322248da306"
      },
      "source": [
        "str1 = \"this is string example....wow!!!\";\n",
        "str2 = \"exam\";\n",
        "\n",
        "print(str1.index(str2))\n",
        "print(str1.index(str2, 10))\n",
        "print(str1.index(str2, 40))"
      ],
      "execution_count": 79,
      "outputs": [
        {
          "output_type": "stream",
          "text": [
            "15\n",
            "15\n"
          ],
          "name": "stdout"
        },
        {
          "output_type": "error",
          "ename": "ValueError",
          "evalue": "ignored",
          "traceback": [
            "\u001b[0;31m---------------------------------------------------------------------------\u001b[0m",
            "\u001b[0;31mValueError\u001b[0m                                Traceback (most recent call last)",
            "\u001b[0;32m<ipython-input-79-2b770159e04c>\u001b[0m in \u001b[0;36m<module>\u001b[0;34m()\u001b[0m\n\u001b[1;32m      4\u001b[0m \u001b[0mprint\u001b[0m\u001b[0;34m(\u001b[0m\u001b[0mstr1\u001b[0m\u001b[0;34m.\u001b[0m\u001b[0mindex\u001b[0m\u001b[0;34m(\u001b[0m\u001b[0mstr2\u001b[0m\u001b[0;34m)\u001b[0m\u001b[0;34m)\u001b[0m\u001b[0;34m\u001b[0m\u001b[0;34m\u001b[0m\u001b[0m\n\u001b[1;32m      5\u001b[0m \u001b[0mprint\u001b[0m\u001b[0;34m(\u001b[0m\u001b[0mstr1\u001b[0m\u001b[0;34m.\u001b[0m\u001b[0mindex\u001b[0m\u001b[0;34m(\u001b[0m\u001b[0mstr2\u001b[0m\u001b[0;34m,\u001b[0m \u001b[0;36m10\u001b[0m\u001b[0;34m)\u001b[0m\u001b[0;34m)\u001b[0m\u001b[0;34m\u001b[0m\u001b[0;34m\u001b[0m\u001b[0m\n\u001b[0;32m----> 6\u001b[0;31m \u001b[0mprint\u001b[0m\u001b[0;34m(\u001b[0m\u001b[0mstr1\u001b[0m\u001b[0;34m.\u001b[0m\u001b[0mindex\u001b[0m\u001b[0;34m(\u001b[0m\u001b[0mstr2\u001b[0m\u001b[0;34m,\u001b[0m \u001b[0;36m40\u001b[0m\u001b[0;34m)\u001b[0m\u001b[0;34m)\u001b[0m\u001b[0;34m\u001b[0m\u001b[0;34m\u001b[0m\u001b[0m\n\u001b[0m",
            "\u001b[0;31mValueError\u001b[0m: substring not found"
          ]
        }
      ]
    },
    {
      "cell_type": "markdown",
      "metadata": {
        "id": "SjANn8wT7Wc3",
        "colab_type": "text"
      },
      "source": [
        "\tisalnum（）"
      ]
    },
    {
      "cell_type": "code",
      "metadata": {
        "id": "yCkkPNKU7ZvW",
        "colab_type": "code",
        "colab": {
          "base_uri": "https://localhost:8080/",
          "height": 50
        },
        "outputId": "7542617c-1798-4ff6-cfdb-52ce4c1fb55d"
      },
      "source": [
        "str = \"this2009\";  # No space in this string\n",
        "print(str.isalnum())\n",
        "\n",
        "str = \"this is string example....wow!!!\";\n",
        "print(str.isalnum())"
      ],
      "execution_count": 80,
      "outputs": [
        {
          "output_type": "stream",
          "text": [
            "True\n",
            "False\n"
          ],
          "name": "stdout"
        }
      ]
    },
    {
      "cell_type": "markdown",
      "metadata": {
        "id": "Eay-Djie70rd",
        "colab_type": "text"
      },
      "source": [
        "isdigit（）"
      ]
    },
    {
      "cell_type": "code",
      "metadata": {
        "id": "I5KKSkV38AzP",
        "colab_type": "code",
        "colab": {
          "base_uri": "https://localhost:8080/",
          "height": 50
        },
        "outputId": "e9431bb3-fad8-4161-edd2-16d1f7657945"
      },
      "source": [
        "str = \"123456\";  # Only digit in this string\n",
        "print(str.isdigit())\n",
        "\n",
        "str = \"this is string example....wow!!!\";\n",
        "print(str.isdigit())"
      ],
      "execution_count": 82,
      "outputs": [
        {
          "output_type": "stream",
          "text": [
            "True\n",
            "False\n"
          ],
          "name": "stdout"
        }
      ]
    },
    {
      "cell_type": "markdown",
      "metadata": {
        "id": "FjzB9HFN8JG5",
        "colab_type": "text"
      },
      "source": [
        "\tislower（）"
      ]
    },
    {
      "cell_type": "code",
      "metadata": {
        "id": "JNo3DsdH8MdW",
        "colab_type": "code",
        "colab": {
          "base_uri": "https://localhost:8080/",
          "height": 50
        },
        "outputId": "3b26edce-4196-4799-cd3f-5da567811ac3"
      },
      "source": [
        "str = \"THIS is string example....wow!!!\"; \n",
        "print(str.islower())\n",
        "\n",
        "str = \"this is string example....wow!!!\";\n",
        "print(str.islower())"
      ],
      "execution_count": 83,
      "outputs": [
        {
          "output_type": "stream",
          "text": [
            "False\n",
            "True\n"
          ],
          "name": "stdout"
        }
      ]
    },
    {
      "cell_type": "markdown",
      "metadata": {
        "id": "mzm9SAFX8U1h",
        "colab_type": "text"
      },
      "source": [
        "\tisnumeric（）"
      ]
    },
    {
      "cell_type": "code",
      "metadata": {
        "id": "3iIDK3t98ZkF",
        "colab_type": "code",
        "colab": {
          "base_uri": "https://localhost:8080/",
          "height": 50
        },
        "outputId": "d31579d1-bf25-4ac2-b39a-250a0212a8c5"
      },
      "source": [
        "str = u\"this2009\";  \n",
        "print(str.isnumeric())\n",
        "\n",
        "str = u\"23443434\";\n",
        "print(str.isnumeric())"
      ],
      "execution_count": 84,
      "outputs": [
        {
          "output_type": "stream",
          "text": [
            "False\n",
            "True\n"
          ],
          "name": "stdout"
        }
      ]
    },
    {
      "cell_type": "markdown",
      "metadata": {
        "id": "_XUiT4MO8e_v",
        "colab_type": "text"
      },
      "source": [
        "\tisspace（）"
      ]
    },
    {
      "cell_type": "code",
      "metadata": {
        "id": "aMAxENig8i2l",
        "colab_type": "code",
        "colab": {
          "base_uri": "https://localhost:8080/",
          "height": 50
        },
        "outputId": "6c00f4cb-fa13-4793-e865-3d00d80a97f8"
      },
      "source": [
        "str = \"       \"; \n",
        "print(str.isspace())\n",
        "\n",
        "str = \"This is string example....wow!!!\";\n",
        "print(str.isspace())"
      ],
      "execution_count": 85,
      "outputs": [
        {
          "output_type": "stream",
          "text": [
            "True\n",
            "False\n"
          ],
          "name": "stdout"
        }
      ]
    },
    {
      "cell_type": "markdown",
      "metadata": {
        "id": "UdYXsnOn8omm",
        "colab_type": "text"
      },
      "source": [
        "istitle（）"
      ]
    },
    {
      "cell_type": "code",
      "metadata": {
        "id": "pusZp_SM8rwu",
        "colab_type": "code",
        "colab": {
          "base_uri": "https://localhost:8080/",
          "height": 50
        },
        "outputId": "6e65ef67-1076-4c77-eaa2-3db4a93c8b76"
      },
      "source": [
        "str = \"This Is String Example...Wow!!!\";\n",
        "print(str.istitle())\n",
        "\n",
        "str = \"This is string example....wow!!!\";\n",
        "print(str.istitle())"
      ],
      "execution_count": 86,
      "outputs": [
        {
          "output_type": "stream",
          "text": [
            "True\n",
            "False\n"
          ],
          "name": "stdout"
        }
      ]
    },
    {
      "cell_type": "markdown",
      "metadata": {
        "id": "R3PpmX_y83bH",
        "colab_type": "text"
      },
      "source": [
        "isupper（）"
      ]
    },
    {
      "cell_type": "code",
      "metadata": {
        "id": "JM-jyuya86-n",
        "colab_type": "code",
        "colab": {
          "base_uri": "https://localhost:8080/",
          "height": 50
        },
        "outputId": "e5e11b80-2b95-413d-ad55-161e3ccdccde"
      },
      "source": [
        "str = \"THIS IS STRING EXAMPLE....WOW!!!\"; \n",
        "print(str.isupper())\n",
        "\n",
        "str = \"THIS is string example....wow!!!\";\n",
        "print(str.isupper())"
      ],
      "execution_count": 87,
      "outputs": [
        {
          "output_type": "stream",
          "text": [
            "True\n",
            "False\n"
          ],
          "name": "stdout"
        }
      ]
    },
    {
      "cell_type": "markdown",
      "metadata": {
        "id": "DSxZPw-a9C-u",
        "colab_type": "text"
      },
      "source": [
        "\tjoin(seq)"
      ]
    },
    {
      "cell_type": "code",
      "metadata": {
        "id": "KjKL78R69NFW",
        "colab_type": "code",
        "colab": {
          "base_uri": "https://localhost:8080/",
          "height": 34
        },
        "outputId": "a73fb1e0-15ec-4e99-e873-5335cbd42e07"
      },
      "source": [
        "s = \"-\";\n",
        "seq = (\"a\", \"b\", \"c\"); # This is sequence of strings.\n",
        "print(s.join( seq ))"
      ],
      "execution_count": 88,
      "outputs": [
        {
          "output_type": "stream",
          "text": [
            "a-b-c\n"
          ],
          "name": "stdout"
        }
      ]
    },
    {
      "cell_type": "markdown",
      "metadata": {
        "id": "nOOiBCUz9Tuu",
        "colab_type": "text"
      },
      "source": [
        "\tlen(string)"
      ]
    },
    {
      "cell_type": "code",
      "metadata": {
        "id": "3wuO9sAb9Wc_",
        "colab_type": "code",
        "colab": {
          "base_uri": "https://localhost:8080/",
          "height": 34
        },
        "outputId": "01860e04-26b3-4077-9fad-eab136d7c28b"
      },
      "source": [
        "str = \"this is string example....wow!!!\";\n",
        "print(\"Length of the string: \", len(str))"
      ],
      "execution_count": 89,
      "outputs": [
        {
          "output_type": "stream",
          "text": [
            "Length of the string:  32\n"
          ],
          "name": "stdout"
        }
      ]
    },
    {
      "cell_type": "markdown",
      "metadata": {
        "id": "ett-nSK79dPZ",
        "colab_type": "text"
      },
      "source": [
        "ljust（width [，fillchar]）"
      ]
    },
    {
      "cell_type": "code",
      "metadata": {
        "id": "jftaPsVg9gFT",
        "colab_type": "code",
        "colab": {
          "base_uri": "https://localhost:8080/",
          "height": 34
        },
        "outputId": "ff885860-9e5b-45d6-e3c8-0458ce2777f1"
      },
      "source": [
        "str = \"this is string example....wow!!!\";\n",
        "print(str.ljust(50, '0'))"
      ],
      "execution_count": 90,
      "outputs": [
        {
          "output_type": "stream",
          "text": [
            "this is string example....wow!!!000000000000000000\n"
          ],
          "name": "stdout"
        }
      ]
    },
    {
      "cell_type": "markdown",
      "metadata": {
        "id": "lht2aDJO9noQ",
        "colab_type": "text"
      },
      "source": [
        "\tlower()"
      ]
    },
    {
      "cell_type": "code",
      "metadata": {
        "id": "lxVtWpyw9rnN",
        "colab_type": "code",
        "colab": {
          "base_uri": "https://localhost:8080/",
          "height": 34
        },
        "outputId": "00c9d4f5-77a9-4e7e-8fc8-a5f52a0b0f7c"
      },
      "source": [
        "str = \"THIS IS STRING EXAMPLE....WOW!!!\";\n",
        "print(str.lower())"
      ],
      "execution_count": 91,
      "outputs": [
        {
          "output_type": "stream",
          "text": [
            "this is string example....wow!!!\n"
          ],
          "name": "stdout"
        }
      ]
    },
    {
      "cell_type": "markdown",
      "metadata": {
        "id": "B_vansXT9xoq",
        "colab_type": "text"
      },
      "source": [
        "lstrip（）"
      ]
    },
    {
      "cell_type": "code",
      "metadata": {
        "id": "AtU9bj2390Sv",
        "colab_type": "code",
        "colab": {
          "base_uri": "https://localhost:8080/",
          "height": 50
        },
        "outputId": "bae029fe-235b-4e76-9ebd-b973982b09c1"
      },
      "source": [
        "str = \"     this is string example....wow!!!     \";\n",
        "print(str.lstrip())\n",
        "str = \"88888888this is string example....wow!!!8888888\";\n",
        "print(str.lstrip('8'))"
      ],
      "execution_count": 92,
      "outputs": [
        {
          "output_type": "stream",
          "text": [
            "this is string example....wow!!!     \n",
            "this is string example....wow!!!8888888\n"
          ],
          "name": "stdout"
        }
      ]
    },
    {
      "cell_type": "markdown",
      "metadata": {
        "id": "wuC7v_Rt99eO",
        "colab_type": "text"
      },
      "source": [
        "maketrans（）"
      ]
    },
    {
      "cell_type": "code",
      "metadata": {
        "id": "OJaaZHLE-ADJ",
        "colab_type": "code",
        "colab": {}
      },
      "source": [
        "from string import maketrans   # Required to call maketrans function.\n",
        "\n",
        "intab = \"aeiou\"\n",
        "outtab = \"12345\"\n",
        "trantab = maketrans(intab, outtab)\n",
        "\n",
        "str = \"this is string example....wow!!!\"\n",
        "print(str.translate(trantab))"
      ],
      "execution_count": null,
      "outputs": []
    },
    {
      "cell_type": "markdown",
      "metadata": {
        "id": "qRQdJAKx_RwX",
        "colab_type": "text"
      },
      "source": [
        "\tmax(str)"
      ]
    },
    {
      "cell_type": "code",
      "metadata": {
        "id": "PB4P2FwL_mWv",
        "colab_type": "code",
        "colab": {
          "base_uri": "https://localhost:8080/",
          "height": 50
        },
        "outputId": "722d0d99-2109-44cc-8f56-29edd39ac4fc"
      },
      "source": [
        "str = \"this is really a string example....wow!!!\";\n",
        "print(\"Max character: \" + max(str))\n",
        "\n",
        "str = \"this is a string example....wow!!!\";\n",
        "print(\"Max character: \" + max(str))"
      ],
      "execution_count": 97,
      "outputs": [
        {
          "output_type": "stream",
          "text": [
            "Max character: y\n",
            "Max character: x\n"
          ],
          "name": "stdout"
        }
      ]
    },
    {
      "cell_type": "markdown",
      "metadata": {
        "id": "IIctQbTp_qlI",
        "colab_type": "text"
      },
      "source": [
        "min(str)"
      ]
    },
    {
      "cell_type": "code",
      "metadata": {
        "id": "jnWUO58Q_uXu",
        "colab_type": "code",
        "colab": {
          "base_uri": "https://localhost:8080/",
          "height": 50
        },
        "outputId": "411b37a2-1477-4a8a-f2f1-25dbb7fe6027"
      },
      "source": [
        "str = \"this-is-real-string-example....wow!!!\";\n",
        "print(\"Min character: \" + min(str))\n",
        "\n",
        "str = \"this-is-a-string-example....wow!!!\";\n",
        "print(\"Min character: \" + min(str))"
      ],
      "execution_count": 98,
      "outputs": [
        {
          "output_type": "stream",
          "text": [
            "Min character: !\n",
            "Min character: !\n"
          ],
          "name": "stdout"
        }
      ]
    },
    {
      "cell_type": "markdown",
      "metadata": {
        "id": "Gtj3HCsZ_6dW",
        "colab_type": "text"
      },
      "source": [
        "\treplace(old, new [, max])"
      ]
    },
    {
      "cell_type": "code",
      "metadata": {
        "id": "1xXcGh0K_-Ij",
        "colab_type": "code",
        "colab": {
          "base_uri": "https://localhost:8080/",
          "height": 50
        },
        "outputId": "ce3f20aa-f3ce-421d-f8d0-8f2e236ed515"
      },
      "source": [
        "str = \"this is string example....wow!!! this is really string\"\n",
        "print(str.replace(\"is\", \"was\"))\n",
        "print(str.replace(\"is\", \"was\", 3))"
      ],
      "execution_count": 99,
      "outputs": [
        {
          "output_type": "stream",
          "text": [
            "thwas was string example....wow!!! thwas was really string\n",
            "thwas was string example....wow!!! thwas is really string\n"
          ],
          "name": "stdout"
        }
      ]
    },
    {
      "cell_type": "markdown",
      "metadata": {
        "id": "1kkrMLg7AMnZ",
        "colab_type": "text"
      },
      "source": [
        "\trfind(str, beg=0,end=len(string))"
      ]
    },
    {
      "cell_type": "code",
      "metadata": {
        "id": "X7Yly_NKAQRu",
        "colab_type": "code",
        "colab": {
          "base_uri": "https://localhost:8080/",
          "height": 118
        },
        "outputId": "6daee9b0-1692-4d66-c874-2b9bb9325668"
      },
      "source": [
        "str1 = \"this is really a string example....wow!!!\";\n",
        "str2 = \"is\";\n",
        "\n",
        "print(str1.rfind(str2))\n",
        "print(str1.rfind(str2, 0, 10))\n",
        "print(str1.rfind(str2, 10, 0))\n",
        "\n",
        "print(str1.find(str2))\n",
        "print(str1.find(str2, 0, 10))\n",
        "print(str1.find(str2, 10, 0))"
      ],
      "execution_count": 100,
      "outputs": [
        {
          "output_type": "stream",
          "text": [
            "5\n",
            "5\n",
            "-1\n",
            "2\n",
            "2\n",
            "-1\n"
          ],
          "name": "stdout"
        }
      ]
    },
    {
      "cell_type": "markdown",
      "metadata": {
        "id": "hf69owlfAvu1",
        "colab_type": "text"
      },
      "source": [
        "rindex（str，beg = 0，end = len（string））"
      ]
    },
    {
      "cell_type": "code",
      "metadata": {
        "id": "ebhfrbG8Axv6",
        "colab_type": "code",
        "colab": {
          "base_uri": "https://localhost:8080/",
          "height": 50
        },
        "outputId": "7806ed54-c265-43d7-ab44-0e7f61b8b46c"
      },
      "source": [
        "str1 = \"this is string example....wow!!!\";\n",
        "str2 = \"is\";\n",
        "\n",
        "print(str1.rindex(str2))\n",
        "print(str1.index(str2))"
      ],
      "execution_count": 101,
      "outputs": [
        {
          "output_type": "stream",
          "text": [
            "5\n",
            "2\n"
          ],
          "name": "stdout"
        }
      ]
    },
    {
      "cell_type": "markdown",
      "metadata": {
        "id": "ymWcfri1A-zu",
        "colab_type": "text"
      },
      "source": [
        "rjust（width，[，fillchar]）"
      ]
    },
    {
      "cell_type": "code",
      "metadata": {
        "id": "7YU40MFaBC8z",
        "colab_type": "code",
        "colab": {
          "base_uri": "https://localhost:8080/",
          "height": 34
        },
        "outputId": "589815c7-c531-4cf4-f50c-623cd2a485d7"
      },
      "source": [
        "str = \"this is string example....wow!!!\";\n",
        "print(str.rjust(50, '0'))"
      ],
      "execution_count": 102,
      "outputs": [
        {
          "output_type": "stream",
          "text": [
            "000000000000000000this is string example....wow!!!\n"
          ],
          "name": "stdout"
        }
      ]
    },
    {
      "cell_type": "markdown",
      "metadata": {
        "id": "pDarKU-4BJDV",
        "colab_type": "text"
      },
      "source": [
        "\trstrip（）"
      ]
    },
    {
      "cell_type": "code",
      "metadata": {
        "id": "ldw6D2-MBK_1",
        "colab_type": "code",
        "colab": {
          "base_uri": "https://localhost:8080/",
          "height": 50
        },
        "outputId": "3a0c1c38-b3cd-4f88-8199-ed363cbeacd3"
      },
      "source": [
        "str = \"     this is string example....wow!!!     \";\n",
        "print(str.rstrip())\n",
        "str = \"88888888this is string example....wow!!!8888888\";\n",
        "print(str.rstrip('8'))"
      ],
      "execution_count": 103,
      "outputs": [
        {
          "output_type": "stream",
          "text": [
            "     this is string example....wow!!!\n",
            "88888888this is string example....wow!!!\n"
          ],
          "name": "stdout"
        }
      ]
    },
    {
      "cell_type": "markdown",
      "metadata": {
        "id": "pQ0tNQL2BSfe",
        "colab_type": "text"
      },
      "source": [
        "split（str =“”，num = string.count（str））"
      ]
    },
    {
      "cell_type": "code",
      "metadata": {
        "id": "JbSWe-YvBVbd",
        "colab_type": "code",
        "colab": {
          "base_uri": "https://localhost:8080/",
          "height": 50
        },
        "outputId": "7ef7c8a8-88a1-43e9-ef06-3354c37dc63d"
      },
      "source": [
        "str = \"Line1-abcdef \\nLine2-abc \\nLine4-abcd\";\n",
        "print(str.split( ))\n",
        "print(str.split(' ', 1 ))"
      ],
      "execution_count": 104,
      "outputs": [
        {
          "output_type": "stream",
          "text": [
            "['Line1-abcdef', 'Line2-abc', 'Line4-abcd']\n",
            "['Line1-abcdef', '\\nLine2-abc \\nLine4-abcd']\n"
          ],
          "name": "stdout"
        }
      ]
    },
    {
      "cell_type": "markdown",
      "metadata": {
        "id": "_tWKRmfWBg2L",
        "colab_type": "text"
      },
      "source": [
        "\tsplitlines( num=string.count('\\n'))"
      ]
    },
    {
      "cell_type": "code",
      "metadata": {
        "id": "d2wJUheOBlWe",
        "colab_type": "code",
        "colab": {
          "base_uri": "https://localhost:8080/",
          "height": 101
        },
        "outputId": "eecfff55-76d5-4169-bc09-f3290b74215e"
      },
      "source": [
        "str = \"Line1-a b c d e f\\nLine2- a b c\\n\\nLine4- a b c d\";\n",
        "print(str.splitlines( ))\n",
        "print(str.splitlines( 0 ))\n",
        "print(str.splitlines( 3 ))\n",
        "print(str.splitlines( 4 ))\n",
        "print(str.splitlines( 5 ))"
      ],
      "execution_count": 105,
      "outputs": [
        {
          "output_type": "stream",
          "text": [
            "['Line1-a b c d e f', 'Line2- a b c', '', 'Line4- a b c d']\n",
            "['Line1-a b c d e f', 'Line2- a b c', '', 'Line4- a b c d']\n",
            "['Line1-a b c d e f\\n', 'Line2- a b c\\n', '\\n', 'Line4- a b c d']\n",
            "['Line1-a b c d e f\\n', 'Line2- a b c\\n', '\\n', 'Line4- a b c d']\n",
            "['Line1-a b c d e f\\n', 'Line2- a b c\\n', '\\n', 'Line4- a b c d']\n"
          ],
          "name": "stdout"
        }
      ]
    },
    {
      "cell_type": "code",
      "metadata": {
        "id": "y5CRf2PyBwU3",
        "colab_type": "code",
        "colab": {
          "base_uri": "https://localhost:8080/",
          "height": 101
        },
        "outputId": "5869cbe6-7e1e-48b6-91e6-076990fb01f3"
      },
      "source": [
        "str = \"Line1-a b c d e f\\nLine2- a b c\\n\\nLine4- a b c d\";\n",
        "print(str.splitlines(True))\n",
        "print(str.splitlines( 0 ))\n",
        "print(str.splitlines( 3 ))\n",
        "print(str.splitlines( 4 ))\n",
        "print(str.splitlines( 5 ))"
      ],
      "execution_count": 106,
      "outputs": [
        {
          "output_type": "stream",
          "text": [
            "['Line1-a b c d e f\\n', 'Line2- a b c\\n', '\\n', 'Line4- a b c d']\n",
            "['Line1-a b c d e f', 'Line2- a b c', '', 'Line4- a b c d']\n",
            "['Line1-a b c d e f\\n', 'Line2- a b c\\n', '\\n', 'Line4- a b c d']\n",
            "['Line1-a b c d e f\\n', 'Line2- a b c\\n', '\\n', 'Line4- a b c d']\n",
            "['Line1-a b c d e f\\n', 'Line2- a b c\\n', '\\n', 'Line4- a b c d']\n"
          ],
          "name": "stdout"
        }
      ]
    },
    {
      "cell_type": "markdown",
      "metadata": {
        "id": "-OUZmv36B_pw",
        "colab_type": "text"
      },
      "source": [
        "startswith（str，beg = 0，end = len（string））"
      ]
    },
    {
      "cell_type": "code",
      "metadata": {
        "id": "ra9yC4utCDC-",
        "colab_type": "code",
        "colab": {
          "base_uri": "https://localhost:8080/",
          "height": 67
        },
        "outputId": "f2199ccf-cacf-4538-cdf8-070315160dbf"
      },
      "source": [
        "str = \"this is string example....wow!!!\";\n",
        "print(str.startswith( 'this' ))\n",
        "print(str.startswith( 'is', 2, 4 ))\n",
        "print(str.startswith( 'this', 2, 4 ))"
      ],
      "execution_count": 107,
      "outputs": [
        {
          "output_type": "stream",
          "text": [
            "True\n",
            "True\n",
            "False\n"
          ],
          "name": "stdout"
        }
      ]
    },
    {
      "cell_type": "markdown",
      "metadata": {
        "id": "ZJQeVzegCJXG",
        "colab_type": "text"
      },
      "source": [
        "\tstrip([chars])"
      ]
    },
    {
      "cell_type": "code",
      "metadata": {
        "id": "thSTt2_PCMnQ",
        "colab_type": "code",
        "colab": {
          "base_uri": "https://localhost:8080/",
          "height": 34
        },
        "outputId": "99c5053c-613a-46b1-fbb8-be1a422a5618"
      },
      "source": [
        "str = \"0000000this is string example....wow!!!0000000\";\n",
        "print(str.strip( '0' ))"
      ],
      "execution_count": 108,
      "outputs": [
        {
          "output_type": "stream",
          "text": [
            "this is string example....wow!!!\n"
          ],
          "name": "stdout"
        }
      ]
    },
    {
      "cell_type": "markdown",
      "metadata": {
        "id": "QX9Fa5YDCSSm",
        "colab_type": "text"
      },
      "source": [
        "\tswapcase（）"
      ]
    },
    {
      "cell_type": "code",
      "metadata": {
        "id": "9EtNBEkGCUqF",
        "colab_type": "code",
        "colab": {
          "base_uri": "https://localhost:8080/",
          "height": 50
        },
        "outputId": "0d4f0102-f3ff-405f-8fd1-c9d3e48d61ed"
      },
      "source": [
        "str = \"this is string example....wow!!!\";\n",
        "print(str.swapcase())\n",
        "\n",
        "str = \"THIS IS STRING EXAMPLE....WOW!!!\";\n",
        "print(str.swapcase())"
      ],
      "execution_count": 109,
      "outputs": [
        {
          "output_type": "stream",
          "text": [
            "THIS IS STRING EXAMPLE....WOW!!!\n",
            "this is string example....wow!!!\n"
          ],
          "name": "stdout"
        }
      ]
    },
    {
      "cell_type": "markdown",
      "metadata": {
        "id": "M2yV3XioCcX_",
        "colab_type": "text"
      },
      "source": [
        "\ttitle()"
      ]
    },
    {
      "cell_type": "code",
      "metadata": {
        "id": "TOqueOHwCf2j",
        "colab_type": "code",
        "colab": {
          "base_uri": "https://localhost:8080/",
          "height": 34
        },
        "outputId": "7a535f9f-de97-41df-e4fd-6d7649af111d"
      },
      "source": [
        "str = \"this is string example....wow!!!\";\n",
        "print(str.title())"
      ],
      "execution_count": 110,
      "outputs": [
        {
          "output_type": "stream",
          "text": [
            "This Is String Example....Wow!!!\n"
          ],
          "name": "stdout"
        }
      ]
    },
    {
      "cell_type": "markdown",
      "metadata": {
        "id": "aFiom7WtCzLF",
        "colab_type": "text"
      },
      "source": [
        "\tupper()"
      ]
    },
    {
      "cell_type": "code",
      "metadata": {
        "id": "iwwBKlu6C3p_",
        "colab_type": "code",
        "colab": {
          "base_uri": "https://localhost:8080/",
          "height": 34
        },
        "outputId": "f8002361-f7d3-48c9-870c-99d2594e93cc"
      },
      "source": [
        "str = \"this is string example....wow!!!\";\n",
        "print(\"str.capitalize() : \", str.upper())"
      ],
      "execution_count": 114,
      "outputs": [
        {
          "output_type": "stream",
          "text": [
            "str.capitalize() :  THIS IS STRING EXAMPLE....WOW!!!\n"
          ],
          "name": "stdout"
        }
      ]
    },
    {
      "cell_type": "markdown",
      "metadata": {
        "id": "t2iwLZOoDGey",
        "colab_type": "text"
      },
      "source": [
        "zfill (width)"
      ]
    },
    {
      "cell_type": "code",
      "metadata": {
        "id": "MRiTMaCpDJCW",
        "colab_type": "code",
        "colab": {
          "base_uri": "https://localhost:8080/",
          "height": 50
        },
        "outputId": "7aa83adb-5a4a-492d-9d3a-e14a8c9360ca"
      },
      "source": [
        "str = \"this is string example....wow!!!\";\n",
        "print(str.zfill(40))\n",
        "print(str.zfill(50))"
      ],
      "execution_count": 115,
      "outputs": [
        {
          "output_type": "stream",
          "text": [
            "00000000this is string example....wow!!!\n",
            "000000000000000000this is string example....wow!!!\n"
          ],
          "name": "stdout"
        }
      ]
    },
    {
      "cell_type": "markdown",
      "metadata": {
        "id": "l_fnNCAZDQFt",
        "colab_type": "text"
      },
      "source": [
        "isdecimal（）"
      ]
    },
    {
      "cell_type": "code",
      "metadata": {
        "id": "hUwJxU6KDSFJ",
        "colab_type": "code",
        "colab": {
          "base_uri": "https://localhost:8080/",
          "height": 50
        },
        "outputId": "12d8eeb1-ea50-4c7f-c826-8eb1243c679d"
      },
      "source": [
        "str = u\"this2009\";  \n",
        "print(str.isdecimal());\n",
        "\n",
        "str = u\"23443434\";\n",
        "print(str.isdecimal());"
      ],
      "execution_count": 116,
      "outputs": [
        {
          "output_type": "stream",
          "text": [
            "False\n",
            "True\n"
          ],
          "name": "stdout"
        }
      ]
    }
  ]
}